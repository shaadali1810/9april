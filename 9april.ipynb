{
 "cells": [
  {
   "cell_type": "code",
   "execution_count": 1,
   "id": "dba33be2-9b1e-461c-8309-332848e5acf5",
   "metadata": {},
   "outputs": [],
   "source": [
    "#1 Bayes' Theorem thus gives the probability of an event based on new information that is or may be related to that event. The formula also can be used to determine how the probability of an event occurring may be affected by hypothetical new information, supposing the new information will turn out to be true."
   ]
  },
  {
   "cell_type": "code",
   "execution_count": 2,
   "id": "da62c6a0-8515-4afb-b037-57703c1c8804",
   "metadata": {},
   "outputs": [],
   "source": [
    "#2 P(A|B) – the probability of event A occurring, given event B has occurred. P(B|A) – the probability of event B occurring, given event A has occurred. P(A) – the probability of event A. P(B) – the probability of event B."
   ]
  },
  {
   "cell_type": "code",
   "execution_count": 3,
   "id": "641fecaa-d75c-4ba5-a455-fb5780654758",
   "metadata": {},
   "outputs": [],
   "source": [
    "#3Applications of Bayes' Theorem are widespread and not limited to the financial realm. For example, Bayes' theorem can be used to determine the accuracy of medical test results by taking into consideration how likely any given person is to have a disease and the general accuracy of the test."
   ]
  },
  {
   "cell_type": "code",
   "execution_count": 4,
   "id": "8c282963-9b98-41e9-9615-718232c1ccf4",
   "metadata": {},
   "outputs": [],
   "source": [
    "#4 Conditional probability is the likelihood of an outcome occurring, based on a previous outcome having occurred in similar circumstances. Bayes' theorem provides a way to revise existing predictions or theories (update probabilities) given new or additional evidence."
   ]
  },
  {
   "cell_type": "code",
   "execution_count": 5,
   "id": "ddffd1ef-0fbb-46bc-a8a2-aef9f4398599",
   "metadata": {},
   "outputs": [],
   "source": [
    "#5 Gaussian Naive Bayes: gaussiannb is used in classification tasks and it assumes that feature values follow a gaussian distribution. Multinomial Naive Bayes: It is used for discrete counts. For example, let's say, we have a text classification problem."
   ]
  },
  {
   "cell_type": "code",
   "execution_count": 6,
   "id": "1f1f78a8-58ab-4b85-a315-19587f38c79e",
   "metadata": {},
   "outputs": [],
   "source": [
    "import pandas as pd"
   ]
  },
  {
   "cell_type": "code",
   "execution_count": 13,
   "id": "382687ec-6dc0-405e-9cc8-58aa9c354b7d",
   "metadata": {},
   "outputs": [],
   "source": [
    "X=pd.DataFrame({ 'A':[3,3,4,4,3,3,3],\n",
    "             'B':[2,2,1,2,2,2,3],\n",
    "             })"
   ]
  },
  {
   "cell_type": "code",
   "execution_count": null,
   "id": "c4546e56-a1aa-4e61-950d-588841ed6acf",
   "metadata": {},
   "outputs": [],
   "source": []
  }
 ],
 "metadata": {
  "kernelspec": {
   "display_name": "Python 3 (ipykernel)",
   "language": "python",
   "name": "python3"
  },
  "language_info": {
   "codemirror_mode": {
    "name": "ipython",
    "version": 3
   },
   "file_extension": ".py",
   "mimetype": "text/x-python",
   "name": "python",
   "nbconvert_exporter": "python",
   "pygments_lexer": "ipython3",
   "version": "3.10.8"
  }
 },
 "nbformat": 4,
 "nbformat_minor": 5
}
